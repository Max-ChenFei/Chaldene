{
 "cells": [
  {
   "cell_type": "markdown",
   "id": "0346dd53",
   "metadata": {},
   "source": [
    "## Hello, this is a Markdown Cell"
   ]
  },
  {
   "cell_type": "code",
   "execution_count": 1,
   "id": "9bd38074",
   "metadata": {
    "scrolled": false
   },
   "outputs": [
    {
     "name": "stdout",
     "output_type": "stream",
     "text": [
      "Hello, this is a code cell\n"
     ]
    }
   ],
   "source": [
    "print('Hello, this is a code cell')"
   ]
  },
  {
   "cell_type": "imageprocessingcell",
   "id": "754de1f1",
   "metadata": {},
   "outputs": [],
   "source": [
    "{\"last_node_id\":21,\"last_link_id\":18,\"nodes\":[{\"id\":12,\"type\":\"graph/input\",\"pos\":[-203.1818181818182,22],\"size\":[180,90],\"flags\":{},\"order\":0,\"mode\":0,\"outputs\":[{\"name\":\"\",\"type\":\"number\",\"links\":[6,11],\"slot_index\":0}],\"properties\":{\"name\":\"\",\"type\":\"number\",\"value\":0}},{\"id\":14,\"type\":\"math/formula\",\"pos\":[90,71],\"size\":[160,100],\"flags\":{},\"order\":4,\"mode\":0,\"inputs\":[{\"name\":\"x\",\"type\":\"number\",\"link\":6},{\"name\":\"y\",\"type\":\"number\",\"link\":7}],\"outputs\":[{\"name\":\"\",\"type\":\"number\",\"links\":[8,9],\"label\":\"x+y\",\"slot_index\":0}],\"properties\":{\"x\":1,\"y\":1,\"formula\":\"x+y\"}},{\"id\":20,\"type\":\"math/formula\",\"pos\":[1889.1681484506146,-225.76077253884765],\"size\":[160,100],\"flags\":{},\"order\":8,\"mode\":0,\"inputs\":[{\"name\":\"x\",\"type\":\"number\",\"link\":14},{\"name\":\"y\",\"type\":\"number\",\"link\":15}],\"outputs\":[{\"name\":\"\",\"type\":\"number\",\"links\":[16],\"label\":\"x*y\",\"slot_index\":0}],\"properties\":{\"x\":1,\"y\":1,\"formula\":\"x*y\"}},{\"id\":15,\"type\":\"math/formula\",\"pos\":[434,106],\"size\":[160,100],\"flags\":{},\"order\":5,\"mode\":0,\"inputs\":[{\"name\":\"x\",\"type\":\"number\",\"link\":8},{\"name\":\"y\",\"type\":\"number\",\"link\":9}],\"outputs\":[{\"name\":\"\",\"type\":\"number\",\"links\":[10],\"label\":\"x*y\",\"slot_index\":0}],\"properties\":{\"x\":1,\"y\":1,\"formula\":\"x*y\"}},{\"id\":21,\"type\":\"math/formula\",\"pos\":[2119.838467317806,-384.8730277986476],\"size\":[160,100],\"flags\":{},\"order\":9,\"mode\":0,\"inputs\":[{\"name\":\"x\",\"type\":\"number\",\"link\":16},{\"name\":\"y\",\"type\":\"number\",\"link\":17}],\"outputs\":[{\"name\":\"\",\"type\":\"number\",\"links\":null,\"label\":\"x*y\"}],\"properties\":{\"x\":1,\"y\":1,\"formula\":\"x*y\"}},{\"id\":17,\"type\":\"graph/input\",\"pos\":[1258,-307],\"size\":[180,90],\"flags\":{},\"order\":2,\"mode\":0,\"outputs\":[{\"name\":\"\",\"type\":\"number\",\"links\":[12,17],\"slot_index\":0}],\"properties\":{\"name\":\"\",\"type\":\"number\",\"value\":0}},{\"id\":18,\"type\":\"graph/input\",\"pos\":[1146,40],\"size\":[180,90],\"flags\":{},\"order\":3,\"mode\":0,\"outputs\":[{\"name\":\"\",\"type\":\"number\",\"links\":[],\"slot_index\":0}],\"properties\":{\"name\":\"\",\"type\":\"number\",\"value\":0}},{\"id\":19,\"type\":\"math/formula\",\"pos\":[1516,-162],\"size\":[160,100],\"flags\":{},\"order\":7,\"mode\":0,\"inputs\":[{\"name\":\"x\",\"type\":\"number\",\"link\":12},{\"name\":\"y\",\"type\":\"number\",\"link\":18}],\"outputs\":[{\"name\":\"\",\"type\":\"number\",\"links\":[14,15],\"label\":\"x+y\",\"slot_index\":0}],\"properties\":{\"x\":1,\"y\":1,\"formula\":\"x+y\"}},{\"id\":16,\"type\":\"math/formula\",\"pos\":[658.8181818181819,-56],\"size\":[160,100],\"flags\":{},\"order\":6,\"mode\":0,\"inputs\":[{\"name\":\"x\",\"type\":\"number\",\"link\":10},{\"name\":\"y\",\"type\":\"number\",\"link\":11}],\"outputs\":[{\"name\":\"\",\"type\":\"number\",\"links\":[18],\"label\":\"x*y\",\"slot_index\":0}],\"properties\":{\"x\":1,\"y\":1,\"formula\":\"x*y\"}},{\"id\":13,\"type\":\"graph/input\",\"pos\":[-256,263],\"size\":[180,90],\"flags\":{},\"order\":1,\"mode\":0,\"outputs\":[{\"name\":\"\",\"type\":\"number\",\"links\":[7],\"slot_index\":0}],\"properties\":{\"name\":\"\",\"type\":\"number\",\"value\":0}}],\"links\":[[6,12,0,14,0,\"number\"],[7,13,0,14,1,\"number\"],[8,14,0,15,0,\"number\"],[9,14,0,15,1,\"number\"],[10,15,0,16,0,\"number\"],[11,12,0,16,1,\"number\"],[12,17,0,19,0,\"number\"],[14,19,0,20,0,\"number\"],[15,19,0,20,1,\"number\"],[16,20,0,21,0,\"number\"],[17,17,0,21,1,\"number\"],[18,16,0,19,1,\"number\"]],\"groups\":[],\"config\":{},\"extra\":{},\"version\":0.4}"
   ]
  },
  {
   "cell_type": "code",
   "execution_count": null,
   "id": "326eab21",
   "metadata": {},
   "outputs": [],
   "source": []
  }
 ],
 "metadata": {
  "kernelspec": {
   "display_name": "Python 3 (ipykernel)",
   "language": "python",
   "name": "python3"
  },
  "language_info": {
   "codemirror_mode": {
    "name": "ipython",
    "version": 3
   },
   "file_extension": ".py",
   "mimetype": "text/x-python",
   "name": "python",
   "nbconvert_exporter": "python",
   "pygments_lexer": "ipython3",
   "version": "3.10.4"
  }
 },
 "nbformat": 4,
 "nbformat_minor": 5
}
